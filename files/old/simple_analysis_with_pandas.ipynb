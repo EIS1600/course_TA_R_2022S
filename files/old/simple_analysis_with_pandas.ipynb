{
 "cells": [
  {
   "cell_type": "markdown",
   "id": "3289eaeb",
   "metadata": {},
   "source": [
    "Jupyter Notebook can be installed like this (<https://jupyter.org/install>):\n",
    "\n",
    "`python -m pip install notebook`\n",
    "\n",
    "It can be then opened by running the following command (from your working directory; make sure to restart your Terminal/Command Line after installation):\n",
    "\n",
    "`jupyter notebook`\n"
   ]
  },
  {
   "cell_type": "code",
   "execution_count": 1,
   "id": "de831349",
   "metadata": {},
   "outputs": [],
   "source": [
    "import os\n",
    "import re\n",
    "import numpy\n",
    "from pprint import pprint\n",
    "import pandas\n",
    "import matplotlib.pyplot as plt\n",
    "\n",
    "pandas.set_option(\"display.max_colwidth\", 50) # this is my comment\n"
   ]
  },
  {
   "cell_type": "markdown",
   "id": "cb196c70",
   "metadata": {},
   "source": [
    "Let's load our data here:"
   ]
  },
  {
   "cell_type": "code",
   "execution_count": 13,
   "id": "c9c45428",
   "metadata": {},
   "outputs": [],
   "source": [
    "dispatchFile = \"entities.csv\"\n",
    "dispatch = pandas.read_csv(dispatchFile, sep=\"\\t\", header=0)"
   ]
  },
  {
   "cell_type": "markdown",
   "id": "8234e8ff",
   "metadata": {},
   "source": [
    "Let's do some minor modification: add a column with all dates of each month changed to 1 (we can use that to aggregate our data into months)"
   ]
  },
  {
   "cell_type": "code",
   "execution_count": 14,
   "id": "01513dd9",
   "metadata": {},
   "outputs": [],
   "source": [
    "dispatch[\"month\"] = [re.sub(\"-\\d\\d$\", \"-01\", str(i)) for i in dispatch[\"date\"]]\n",
    "# convert into date format\n",
    "dispatch[\"month\"] = pandas.to_datetime(dispatch[\"month\"], format=\"%Y-%m-%d\")\n",
    "dispatch[\"date\"] = pandas.to_datetime(dispatch[\"date\"], format=\"%Y-%m-%d\")\n",
    "\n",
    "# reorder columns\n",
    "dispatch = dispatch[[\"articleID\", \"month\", \"date\", \"itemType\", \"itemUnified\", \"itemID\"]]"
   ]
  },
  {
   "cell_type": "code",
   "execution_count": 15,
   "id": "cd93504e",
   "metadata": {},
   "outputs": [
    {
     "data": {
      "text/html": [
       "<div>\n",
       "<style scoped>\n",
       "    .dataframe tbody tr th:only-of-type {\n",
       "        vertical-align: middle;\n",
       "    }\n",
       "\n",
       "    .dataframe tbody tr th {\n",
       "        vertical-align: top;\n",
       "    }\n",
       "\n",
       "    .dataframe thead th {\n",
       "        text-align: right;\n",
       "    }\n",
       "</style>\n",
       "<table border=\"1\" class=\"dataframe\">\n",
       "  <thead>\n",
       "    <tr style=\"text-align: right;\">\n",
       "      <th></th>\n",
       "      <th>articleID</th>\n",
       "      <th>month</th>\n",
       "      <th>date</th>\n",
       "      <th>itemType</th>\n",
       "      <th>itemUnified</th>\n",
       "      <th>itemID</th>\n",
       "    </tr>\n",
       "  </thead>\n",
       "  <tbody>\n",
       "    <tr>\n",
       "      <th>0</th>\n",
       "      <td>1864-04-28_article_001</td>\n",
       "      <td>1864-04-01</td>\n",
       "      <td>1864-04-28</td>\n",
       "      <td>placename</td>\n",
       "      <td>gordonsville, orange, virginia</td>\n",
       "      <td>tgn,2111971</td>\n",
       "    </tr>\n",
       "    <tr>\n",
       "      <th>1</th>\n",
       "      <td>1864-04-28_article_002</td>\n",
       "      <td>1864-04-01</td>\n",
       "      <td>1864-04-28</td>\n",
       "      <td>placename</td>\n",
       "      <td>plymouth, washington, north carolina</td>\n",
       "      <td>tgn,2076159</td>\n",
       "    </tr>\n",
       "    <tr>\n",
       "      <th>2</th>\n",
       "      <td>1864-04-28_article_002</td>\n",
       "      <td>1864-04-01</td>\n",
       "      <td>1864-04-28</td>\n",
       "      <td>placename</td>\n",
       "      <td>plymouth, washington, north carolina</td>\n",
       "      <td>tgn,2076159</td>\n",
       "    </tr>\n",
       "    <tr>\n",
       "      <th>3</th>\n",
       "      <td>1864-04-28_article_002</td>\n",
       "      <td>1864-04-01</td>\n",
       "      <td>1864-04-28</td>\n",
       "      <td>persname</td>\n",
       "      <td>wessels,brigadier-general,,,,</td>\n",
       "      <td>wessels,h.,w.</td>\n",
       "    </tr>\n",
       "    <tr>\n",
       "      <th>4</th>\n",
       "      <td>1864-04-28_article_002</td>\n",
       "      <td>1864-04-01</td>\n",
       "      <td>1864-04-28</td>\n",
       "      <td>persname</td>\n",
       "      <td>lincoln,,,,,</td>\n",
       "      <td>lincoln</td>\n",
       "    </tr>\n",
       "    <tr>\n",
       "      <th>5</th>\n",
       "      <td>1864-04-28_article_002</td>\n",
       "      <td>1864-04-01</td>\n",
       "      <td>1864-04-28</td>\n",
       "      <td>placename</td>\n",
       "      <td>plymouth, washington, north carolina</td>\n",
       "      <td>tgn,2076159</td>\n",
       "    </tr>\n",
       "    <tr>\n",
       "      <th>6</th>\n",
       "      <td>1864-04-28_article_002</td>\n",
       "      <td>1864-04-01</td>\n",
       "      <td>1864-04-28</td>\n",
       "      <td>persname</td>\n",
       "      <td>moffitt,colonel,,,,</td>\n",
       "      <td>moffitt</td>\n",
       "    </tr>\n",
       "    <tr>\n",
       "      <th>7</th>\n",
       "      <td>1864-04-28_article_002</td>\n",
       "      <td>1864-04-01</td>\n",
       "      <td>1864-04-28</td>\n",
       "      <td>placename</td>\n",
       "      <td>plymouth, washington, north carolina</td>\n",
       "      <td>tgn,2076159</td>\n",
       "    </tr>\n",
       "    <tr>\n",
       "      <th>8</th>\n",
       "      <td>1864-04-28_article_002</td>\n",
       "      <td>1864-04-01</td>\n",
       "      <td>1864-04-28</td>\n",
       "      <td>orgname</td>\n",
       "      <td>free school</td>\n",
       "      <td>school</td>\n",
       "    </tr>\n",
       "    <tr>\n",
       "      <th>9</th>\n",
       "      <td>1864-04-28_article_002</td>\n",
       "      <td>1864-04-01</td>\n",
       "      <td>1864-04-28</td>\n",
       "      <td>orgname</td>\n",
       "      <td>episcopal church</td>\n",
       "      <td>church</td>\n",
       "    </tr>\n",
       "  </tbody>\n",
       "</table>\n",
       "</div>"
      ],
      "text/plain": [
       "                articleID      month       date   itemType  \\\n",
       "0  1864-04-28_article_001 1864-04-01 1864-04-28  placename   \n",
       "1  1864-04-28_article_002 1864-04-01 1864-04-28  placename   \n",
       "2  1864-04-28_article_002 1864-04-01 1864-04-28  placename   \n",
       "3  1864-04-28_article_002 1864-04-01 1864-04-28   persname   \n",
       "4  1864-04-28_article_002 1864-04-01 1864-04-28   persname   \n",
       "5  1864-04-28_article_002 1864-04-01 1864-04-28  placename   \n",
       "6  1864-04-28_article_002 1864-04-01 1864-04-28   persname   \n",
       "7  1864-04-28_article_002 1864-04-01 1864-04-28  placename   \n",
       "8  1864-04-28_article_002 1864-04-01 1864-04-28    orgname   \n",
       "9  1864-04-28_article_002 1864-04-01 1864-04-28    orgname   \n",
       "\n",
       "                            itemUnified         itemID  \n",
       "0        gordonsville, orange, virginia    tgn,2111971  \n",
       "1  plymouth, washington, north carolina    tgn,2076159  \n",
       "2  plymouth, washington, north carolina    tgn,2076159  \n",
       "3         wessels,brigadier-general,,,,  wessels,h.,w.  \n",
       "4                          lincoln,,,,,        lincoln  \n",
       "5  plymouth, washington, north carolina    tgn,2076159  \n",
       "6                   moffitt,colonel,,,,        moffitt  \n",
       "7  plymouth, washington, north carolina    tgn,2076159  \n",
       "8                           free school         school  \n",
       "9                      episcopal church         church  "
      ]
     },
     "execution_count": 15,
     "metadata": {},
     "output_type": "execute_result"
    }
   ],
   "source": [
    "dispatch.head(10)"
   ]
  },
  {
   "cell_type": "markdown",
   "id": "9fddc441",
   "metadata": {},
   "source": [
    "We can easily count frequencies in the following manner:"
   ]
  },
  {
   "cell_type": "code",
   "execution_count": 16,
   "id": "f3911d78",
   "metadata": {},
   "outputs": [
    {
     "data": {
      "text/plain": [
       "richmond, richmond, virginia                          32551\n",
       "united states                                         19152\n",
       "virginia, united states, north and central america    11042\n",
       "washington, district of columbia, united states        8949\n",
       "virginia                                               7267\n",
       "                                                      ...  \n",
       "wheeler,,g.,,,                                            1\n",
       "wrend,,fenton,e.,,                                        1\n",
       "richards,,c.,m.,,                                         1\n",
       "porter,,j.,w.,h.,                                         1\n",
       "catharine,,p.,m.,,                                        1\n",
       "Name: itemUnified, Length: 147697, dtype: int64"
      ]
     },
     "execution_count": 16,
     "metadata": {},
     "output_type": "execute_result"
    }
   ],
   "source": [
    "dispatch['itemUnified'].value_counts()"
   ]
  },
  {
   "cell_type": "markdown",
   "id": "8f39607c",
   "metadata": {},
   "source": [
    "We can also look at a larger part of the table by giving the range of the table:"
   ]
  },
  {
   "cell_type": "code",
   "execution_count": 17,
   "id": "51e7e4fb",
   "metadata": {
    "scrolled": true
   },
   "outputs": [
    {
     "data": {
      "text/plain": [
       "richmond, richmond, virginia                          32551\n",
       "united states                                         19152\n",
       "virginia, united states, north and central america    11042\n",
       "washington, district of columbia, united states        8949\n",
       "virginia                                               7267\n",
       "charleston, charleston, south carolina                 6943\n",
       "united kingdom                                         6539\n",
       "richmond dispatch                                      5161\n",
       "lincoln,,,,,                                           4681\n",
       "tennessee                                              4366\n",
       "kentucky                                               4194\n",
       "baltimore, baltimore independent city, maryland        4065\n",
       "petersburg, petersburg, virginia                       4062\n",
       "north carolina                                         4022\n",
       "europe,                                                4020\n",
       "maryland                                               3950\n",
       "norfolk, norfolk, virginia                             3679\n",
       "south carolina                                         3619\n",
       "georgia                                                3583\n",
       "france                                                 3320\n",
       ",                                                      3282\n",
       "missouri                                               2656\n",
       "fredericksburg, fredericksburg, virginia               2588\n",
       "grant,,,,,                                             2347\n",
       "philadelphia, philadelphia, pennsylvania               2303\n",
       "vicksburg, warren, mississippi                         2157\n",
       "alabama                                                2100\n",
       "lee,general,,,,                                        2070\n",
       "lynchburg, lynchburg, virginia                         2015\n",
       "hustings court                                         2002\n",
       "mobile, mobile, alabama                                1964\n",
       "mcclellan,,,,,                                         1963\n",
       "mississippi                                            1923\n",
       "manassas, manassas, virginia                           1918\n",
       "east nashville, davidson, tennessee                    1882\n",
       "lee,,,,,                                               1870\n",
       "fortress monroe, hampton, virginia                     1859\n",
       "savannah, chatham, georgia                             1845\n",
       "texas                                                  1836\n",
       "southern confederacy                                   1812\n",
       "alexandria, alexandria, virginia                       1768\n",
       "louisiana                                              1762\n",
       "sherman,,,,,                                           1733\n",
       "henrico, virginia                                      1705\n",
       "general assembly                                       1655\n",
       "winchester, winchester, virginia                       1605\n",
       "winder,,,,,                                            1600\n",
       "war department                                         1589\n",
       "new york herald                                        1554\n",
       "treasury department                                    1552\n",
       "Name: itemUnified, dtype: int64"
      ]
     },
     "execution_count": 17,
     "metadata": {},
     "output_type": "execute_result"
    }
   ],
   "source": [
    "dispatch['itemUnified'].value_counts().head(50)"
   ]
  },
  {
   "cell_type": "markdown",
   "id": "9f5cca26",
   "metadata": {},
   "source": [
    "We can also create a subset to focus only on persons (or anything else)"
   ]
  },
  {
   "cell_type": "code",
   "execution_count": 18,
   "id": "a0f4fa49",
   "metadata": {},
   "outputs": [],
   "source": [
    "dispatch_persons = dispatch[dispatch[\"itemType\"] == \"persname\"]"
   ]
  },
  {
   "cell_type": "code",
   "execution_count": 19,
   "id": "63861664",
   "metadata": {},
   "outputs": [
    {
     "ename": "KeyError",
     "evalue": "'itemId'",
     "output_type": "error",
     "traceback": [
      "\u001b[0;31m---------------------------------------------------------------------------\u001b[0m",
      "\u001b[0;31mKeyError\u001b[0m                                  Traceback (most recent call last)",
      "\u001b[0;32m/Library/Frameworks/Python.framework/Versions/3.10/lib/python3.10/site-packages/pandas/core/indexes/base.py\u001b[0m in \u001b[0;36mget_loc\u001b[0;34m(self, key, method, tolerance)\u001b[0m\n\u001b[1;32m   3360\u001b[0m             \u001b[0;32mtry\u001b[0m\u001b[0;34m:\u001b[0m\u001b[0;34m\u001b[0m\u001b[0;34m\u001b[0m\u001b[0m\n\u001b[0;32m-> 3361\u001b[0;31m                 \u001b[0;32mreturn\u001b[0m \u001b[0mself\u001b[0m\u001b[0;34m.\u001b[0m\u001b[0m_engine\u001b[0m\u001b[0;34m.\u001b[0m\u001b[0mget_loc\u001b[0m\u001b[0;34m(\u001b[0m\u001b[0mcasted_key\u001b[0m\u001b[0;34m)\u001b[0m\u001b[0;34m\u001b[0m\u001b[0;34m\u001b[0m\u001b[0m\n\u001b[0m\u001b[1;32m   3362\u001b[0m             \u001b[0;32mexcept\u001b[0m \u001b[0mKeyError\u001b[0m \u001b[0;32mas\u001b[0m \u001b[0merr\u001b[0m\u001b[0;34m:\u001b[0m\u001b[0;34m\u001b[0m\u001b[0;34m\u001b[0m\u001b[0m\n",
      "\u001b[0;32m/Library/Frameworks/Python.framework/Versions/3.10/lib/python3.10/site-packages/pandas/_libs/index.pyx\u001b[0m in \u001b[0;36mpandas._libs.index.IndexEngine.get_loc\u001b[0;34m()\u001b[0m\n",
      "\u001b[0;32m/Library/Frameworks/Python.framework/Versions/3.10/lib/python3.10/site-packages/pandas/_libs/index.pyx\u001b[0m in \u001b[0;36mpandas._libs.index.IndexEngine.get_loc\u001b[0;34m()\u001b[0m\n",
      "\u001b[0;32mpandas/_libs/hashtable_class_helper.pxi\u001b[0m in \u001b[0;36mpandas._libs.hashtable.PyObjectHashTable.get_item\u001b[0;34m()\u001b[0m\n",
      "\u001b[0;32mpandas/_libs/hashtable_class_helper.pxi\u001b[0m in \u001b[0;36mpandas._libs.hashtable.PyObjectHashTable.get_item\u001b[0;34m()\u001b[0m\n",
      "\u001b[0;31mKeyError\u001b[0m: 'itemId'",
      "\nThe above exception was the direct cause of the following exception:\n",
      "\u001b[0;31mKeyError\u001b[0m                                  Traceback (most recent call last)",
      "\u001b[0;32m/var/folders/my/j4xtkbh930s1zsw07yrc4x_m0000gn/T/ipykernel_93967/3805694877.py\u001b[0m in \u001b[0;36m<module>\u001b[0;34m\u001b[0m\n\u001b[0;32m----> 1\u001b[0;31m \u001b[0mdispatch_persons\u001b[0m\u001b[0;34m[\u001b[0m\u001b[0;34m'itemId'\u001b[0m\u001b[0;34m]\u001b[0m\u001b[0;34m.\u001b[0m\u001b[0mvalue_counts\u001b[0m\u001b[0;34m(\u001b[0m\u001b[0;34m)\u001b[0m\u001b[0;34m.\u001b[0m\u001b[0mhead\u001b[0m\u001b[0;34m(\u001b[0m\u001b[0;36m50\u001b[0m\u001b[0;34m)\u001b[0m\u001b[0;34m\u001b[0m\u001b[0;34m\u001b[0m\u001b[0m\n\u001b[0m",
      "\u001b[0;32m/Library/Frameworks/Python.framework/Versions/3.10/lib/python3.10/site-packages/pandas/core/frame.py\u001b[0m in \u001b[0;36m__getitem__\u001b[0;34m(self, key)\u001b[0m\n\u001b[1;32m   3456\u001b[0m             \u001b[0;32mif\u001b[0m \u001b[0mself\u001b[0m\u001b[0;34m.\u001b[0m\u001b[0mcolumns\u001b[0m\u001b[0;34m.\u001b[0m\u001b[0mnlevels\u001b[0m \u001b[0;34m>\u001b[0m \u001b[0;36m1\u001b[0m\u001b[0;34m:\u001b[0m\u001b[0;34m\u001b[0m\u001b[0;34m\u001b[0m\u001b[0m\n\u001b[1;32m   3457\u001b[0m                 \u001b[0;32mreturn\u001b[0m \u001b[0mself\u001b[0m\u001b[0;34m.\u001b[0m\u001b[0m_getitem_multilevel\u001b[0m\u001b[0;34m(\u001b[0m\u001b[0mkey\u001b[0m\u001b[0;34m)\u001b[0m\u001b[0;34m\u001b[0m\u001b[0;34m\u001b[0m\u001b[0m\n\u001b[0;32m-> 3458\u001b[0;31m             \u001b[0mindexer\u001b[0m \u001b[0;34m=\u001b[0m \u001b[0mself\u001b[0m\u001b[0;34m.\u001b[0m\u001b[0mcolumns\u001b[0m\u001b[0;34m.\u001b[0m\u001b[0mget_loc\u001b[0m\u001b[0;34m(\u001b[0m\u001b[0mkey\u001b[0m\u001b[0;34m)\u001b[0m\u001b[0;34m\u001b[0m\u001b[0;34m\u001b[0m\u001b[0m\n\u001b[0m\u001b[1;32m   3459\u001b[0m             \u001b[0;32mif\u001b[0m \u001b[0mis_integer\u001b[0m\u001b[0;34m(\u001b[0m\u001b[0mindexer\u001b[0m\u001b[0;34m)\u001b[0m\u001b[0;34m:\u001b[0m\u001b[0;34m\u001b[0m\u001b[0;34m\u001b[0m\u001b[0m\n\u001b[1;32m   3460\u001b[0m                 \u001b[0mindexer\u001b[0m \u001b[0;34m=\u001b[0m \u001b[0;34m[\u001b[0m\u001b[0mindexer\u001b[0m\u001b[0;34m]\u001b[0m\u001b[0;34m\u001b[0m\u001b[0;34m\u001b[0m\u001b[0m\n",
      "\u001b[0;32m/Library/Frameworks/Python.framework/Versions/3.10/lib/python3.10/site-packages/pandas/core/indexes/base.py\u001b[0m in \u001b[0;36mget_loc\u001b[0;34m(self, key, method, tolerance)\u001b[0m\n\u001b[1;32m   3361\u001b[0m                 \u001b[0;32mreturn\u001b[0m \u001b[0mself\u001b[0m\u001b[0;34m.\u001b[0m\u001b[0m_engine\u001b[0m\u001b[0;34m.\u001b[0m\u001b[0mget_loc\u001b[0m\u001b[0;34m(\u001b[0m\u001b[0mcasted_key\u001b[0m\u001b[0;34m)\u001b[0m\u001b[0;34m\u001b[0m\u001b[0;34m\u001b[0m\u001b[0m\n\u001b[1;32m   3362\u001b[0m             \u001b[0;32mexcept\u001b[0m \u001b[0mKeyError\u001b[0m \u001b[0;32mas\u001b[0m \u001b[0merr\u001b[0m\u001b[0;34m:\u001b[0m\u001b[0;34m\u001b[0m\u001b[0;34m\u001b[0m\u001b[0m\n\u001b[0;32m-> 3363\u001b[0;31m                 \u001b[0;32mraise\u001b[0m \u001b[0mKeyError\u001b[0m\u001b[0;34m(\u001b[0m\u001b[0mkey\u001b[0m\u001b[0;34m)\u001b[0m \u001b[0;32mfrom\u001b[0m \u001b[0merr\u001b[0m\u001b[0;34m\u001b[0m\u001b[0;34m\u001b[0m\u001b[0m\n\u001b[0m\u001b[1;32m   3364\u001b[0m \u001b[0;34m\u001b[0m\u001b[0m\n\u001b[1;32m   3365\u001b[0m         \u001b[0;32mif\u001b[0m \u001b[0mis_scalar\u001b[0m\u001b[0;34m(\u001b[0m\u001b[0mkey\u001b[0m\u001b[0;34m)\u001b[0m \u001b[0;32mand\u001b[0m \u001b[0misna\u001b[0m\u001b[0;34m(\u001b[0m\u001b[0mkey\u001b[0m\u001b[0;34m)\u001b[0m \u001b[0;32mand\u001b[0m \u001b[0;32mnot\u001b[0m \u001b[0mself\u001b[0m\u001b[0;34m.\u001b[0m\u001b[0mhasnans\u001b[0m\u001b[0;34m:\u001b[0m\u001b[0;34m\u001b[0m\u001b[0;34m\u001b[0m\u001b[0m\n",
      "\u001b[0;31mKeyError\u001b[0m: 'itemId'"
     ]
    }
   ],
   "source": [
    "dispatch_persons['itemId'].value_counts().head(50)"
   ]
  },
  {
   "cell_type": "markdown",
   "id": "5ad97cfb",
   "metadata": {},
   "source": [
    "In the following few lines of code we can:\n",
    "\n",
    "- filter our results to pick only the values that we need;\n",
    "- then plot them on a graph to see how our selected values behaved over time;"
   ]
  },
  {
   "cell_type": "code",
   "execution_count": 20,
   "id": "bd44f441",
   "metadata": {},
   "outputs": [
    {
     "data": {
      "text/html": [
       "<div>\n",
       "<style scoped>\n",
       "    .dataframe tbody tr th:only-of-type {\n",
       "        vertical-align: middle;\n",
       "    }\n",
       "\n",
       "    .dataframe tbody tr th {\n",
       "        vertical-align: top;\n",
       "    }\n",
       "\n",
       "    .dataframe thead th {\n",
       "        text-align: right;\n",
       "    }\n",
       "</style>\n",
       "<table border=\"1\" class=\"dataframe\">\n",
       "  <thead>\n",
       "    <tr style=\"text-align: right;\">\n",
       "      <th></th>\n",
       "      <th>month</th>\n",
       "      <th>grant</th>\n",
       "    </tr>\n",
       "  </thead>\n",
       "  <tbody>\n",
       "    <tr>\n",
       "      <th>0</th>\n",
       "      <td>1860-11-01</td>\n",
       "      <td>7</td>\n",
       "    </tr>\n",
       "    <tr>\n",
       "      <th>1</th>\n",
       "      <td>1860-12-01</td>\n",
       "      <td>10</td>\n",
       "    </tr>\n",
       "    <tr>\n",
       "      <th>2</th>\n",
       "      <td>1861-01-01</td>\n",
       "      <td>8</td>\n",
       "    </tr>\n",
       "    <tr>\n",
       "      <th>3</th>\n",
       "      <td>1861-02-01</td>\n",
       "      <td>11</td>\n",
       "    </tr>\n",
       "    <tr>\n",
       "      <th>4</th>\n",
       "      <td>1861-03-01</td>\n",
       "      <td>10</td>\n",
       "    </tr>\n",
       "    <tr>\n",
       "      <th>5</th>\n",
       "      <td>1861-04-01</td>\n",
       "      <td>4</td>\n",
       "    </tr>\n",
       "    <tr>\n",
       "      <th>6</th>\n",
       "      <td>1861-05-01</td>\n",
       "      <td>3</td>\n",
       "    </tr>\n",
       "    <tr>\n",
       "      <th>7</th>\n",
       "      <td>1861-06-01</td>\n",
       "      <td>10</td>\n",
       "    </tr>\n",
       "    <tr>\n",
       "      <th>8</th>\n",
       "      <td>1861-07-01</td>\n",
       "      <td>6</td>\n",
       "    </tr>\n",
       "    <tr>\n",
       "      <th>9</th>\n",
       "      <td>1861-08-01</td>\n",
       "      <td>7</td>\n",
       "    </tr>\n",
       "  </tbody>\n",
       "</table>\n",
       "</div>"
      ],
      "text/plain": [
       "       month  grant\n",
       "0 1860-11-01      7\n",
       "1 1860-12-01     10\n",
       "2 1861-01-01      8\n",
       "3 1861-02-01     11\n",
       "4 1861-03-01     10\n",
       "5 1861-04-01      4\n",
       "6 1861-05-01      3\n",
       "7 1861-06-01     10\n",
       "8 1861-07-01      6\n",
       "9 1861-08-01      7"
      ]
     },
     "execution_count": 20,
     "metadata": {},
     "output_type": "execute_result"
    }
   ],
   "source": [
    "var = \"grant\" # this is our variable\n",
    "\n",
    "results = dispatch_persons[dispatch_persons.itemUnified.str.contains(var)] # selects only rows where itemUnified contains our `var`;\n",
    "results = results[[\"month\", \"itemType\"]] # selecting only two columns (making our table smaller);\n",
    "results = results.groupby([\"month\"]).count() # counting all occurences of our `var` during each month;\n",
    "results = results.reset_index() # this resets the index of the dataframe (necessary step);\n",
    "results[var] = results[\"itemType\"] # here we create a new column named with our `var`\n",
    "results = results[[\"month\", var]] # again, select only necessary columns\n",
    "\n",
    "results.head(10)"
   ]
  },
  {
   "cell_type": "markdown",
   "id": "131d70e6",
   "metadata": {},
   "source": [
    "We can now plot this data onto a graph, where `month` will be on the x-axis, and the counts of our `var` will be mapped on the y-axis."
   ]
  },
  {
   "cell_type": "code",
   "execution_count": 21,
   "id": "d734d813",
   "metadata": {},
   "outputs": [
    {
     "data": {
      "text/plain": [
       "<AxesSubplot:xlabel='month'>"
      ]
     },
     "execution_count": 21,
     "metadata": {},
     "output_type": "execute_result"
    },
    {
     "data": {
      "image/png": "[encoded data removed]",
      "text/plain": [
       "<Figure size 1440x648 with 1 Axes>"
      ]
     },
     "metadata": {
      "needs_background": "light"
     },
     "output_type": "display_data"
    }
   ],
   "source": [
    "# Plotting directly from DataFrames with Pandas; this section alon is actually enough\n",
    "results.plot(\n",
    "    x='month', \n",
    "    y=var,  \n",
    "    legend=True, \n",
    "    color='red'\n",
    ")"
   ]
  },
  {
   "cell_type": "markdown",
   "id": "f36db3ea",
   "metadata": {},
   "source": [
    "The code above is sufficient to print the graph out, but we can also customize how it\n",
    "looks with the following additional lines of code. You can play around with the parameters to change how it looks (you may need to google for soem additional parameters):"
   ]
  },
  {
   "cell_type": "code",
   "execution_count": 22,
   "id": "7d80454a",
   "metadata": {},
   "outputs": [
    {
     "data": {
      "image/png": "[encoded data removed]",
      "text/plain": [
       "<Figure size 1440x648 with 1 Axes>"
      ]
     },
     "metadata": {
      "needs_background": "light"
     },
     "output_type": "display_data"
    }
   ],
   "source": [
    "results.plot(\n",
    "    x='month', \n",
    "    y=var,  \n",
    "    legend=True, \n",
    "    color='blue'\n",
    ")\n",
    "\n",
    "plt.rcParams[\"figure.figsize\"] = (20,9)\n",
    "plt.ylabel(\"Frequency of mention\")\n",
    "plt.xlabel(\"Dates\")\n",
    "plt.title(var)\n",
    "plt.gca().yaxis.grid(linestyle=':')"
   ]
  },
  {
   "cell_type": "markdown",
   "id": "472b9bfb",
   "metadata": {},
   "source": [
    "Now, we can reuse the following chunk of code to test multiple variables:"
   ]
  },
  {
   "cell_type": "code",
   "execution_count": 23,
   "id": "3d5bdf67",
   "metadata": {},
   "outputs": [
    {
     "data": {
      "image/png": "[encoded data removed]",
      "text/plain": [
       "<Figure size 1440x648 with 1 Axes>"
      ]
     },
     "metadata": {
      "needs_background": "light"
     },
     "output_type": "display_data"
    }
   ],
   "source": [
    "var = \"winder\" # this is our variable\n",
    "\n",
    "results = dispatch_persons[dispatch_persons.itemUnified.str.contains(var)] # selects only rows where itemUnified contains our `var`;\n",
    "results = results[[\"month\", \"itemType\"]] # selecting only two columns (making our table smaller);\n",
    "results = results.groupby([\"month\"]).count() # counting all occurences of our `var` during each month;\n",
    "results = results.reset_index() # this resets the index of the dataframe (necessary step);\n",
    "results[var] = results[\"itemType\"] # here we create a new column named with our `var`\n",
    "results = results[[\"month\", var]] # again, select only necessary columns\n",
    "\n",
    "results.plot(\n",
    "    x='month', \n",
    "    y=var,  \n",
    "    legend=True, \n",
    "    color='blue'\n",
    ")\n",
    "\n",
    "plt.rcParams[\"figure.figsize\"] = (20,9)\n",
    "plt.ylabel(\"Frequency of mention\")\n",
    "plt.xlabel(\"Dates\")\n",
    "plt.title(var)\n",
    "plt.gca().yaxis.grid(linestyle=':')"
   ]
  },
  {
   "cell_type": "code",
   "execution_count": null,
   "id": "10d41f2c",
   "metadata": {},
   "outputs": [],
   "source": []
  },
  {
   "cell_type": "code",
   "execution_count": null,
   "id": "da3256aa",
   "metadata": {},
   "outputs": [],
   "source": []
  }
 ],
 "metadata": {
  "kernelspec": {
   "display_name": "Python 3 (ipykernel)",
   "language": "python",
   "name": "python3"
  },
  "language_info": {
   "codemirror_mode": {
    "name": "ipython",
    "version": 3
   },
   "file_extension": ".py",
   "mimetype": "text/x-python",
   "name": "python",
   "nbconvert_exporter": "python",
   "pygments_lexer": "ipython3",
   "version": "3.10.0"
  }
 },
 "nbformat": 4,
 "nbformat_minor": 5
}
